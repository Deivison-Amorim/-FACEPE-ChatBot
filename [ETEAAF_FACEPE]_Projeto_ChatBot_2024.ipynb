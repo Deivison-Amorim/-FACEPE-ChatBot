{
  "nbformat": 4,
  "nbformat_minor": 0,
  "metadata": {
    "colab": {
      "provenance": [],
      "mount_file_id": "1uPNmd1jzwQ5kNcCJMG-iTspBo5rk164h",
      "authorship_tag": "ABX9TyN2AOExKF29snp54NU5aP3j"
    },
    "kernelspec": {
      "name": "python3",
      "display_name": "Python 3"
    },
    "language_info": {
      "name": "python"
    }
  },
  "cells": [
    {
      "cell_type": "code",
      "execution_count": null,
      "metadata": {
        "id": "ZIo5aEGXWivU"
      },
      "outputs": [],
      "source": [
        "!pip install openai==0.28\n",
        "!pip install gradio"
      ]
    },
    {
      "cell_type": "code",
      "source": [
        "import openai\n",
        "import pandas as pd\n",
        "import gradio as gr\n",
        "\n",
        "# Configuração da API do OpenAI\n",
        "openai.api_key = \"API-KEY AQUI!\"\n",
        "\n",
        "# Caminho do dataset\n",
        "dataset_path = \"/content/drive/MyDrive/Colab Notebooks/[ETEAAF-FACEPE] Projeto ChatBot/DATASET/FAQ_Cursos.xlsx\"\n",
        "\n",
        "# Carregar base de dados de perguntas e respostas\n",
        "try:\n",
        "    faq_data = pd.read_excel(dataset_path)\n",
        "except FileNotFoundError:\n",
        "    print(\"Erro: O arquivo do dataset não foi encontrado no caminho especificado.\")\n",
        "    exit()\n",
        "\n",
        "# Converter perguntas e respostas para uma lista estruturada\n",
        "faq_context = \"\\n\".join([f\"Pergunta: {row['pergunta']}\\nResposta: {row['resposta']}\" for _, row in faq_data.iterrows()])\n",
        "\n",
        "# Função para buscar respostas diretamente no dataset\n",
        "def find_answer_in_faq(user_question):\n",
        "    for question, answer in zip(faq_data['pergunta'], faq_data['resposta']):\n",
        "        if user_question.lower() in question.lower():\n",
        "            return answer\n",
        "    return None\n",
        "\n",
        "# Função do ChatBot\n",
        "def chatbot(user_input):\n",
        "    if user_input.lower() == 'sair':\n",
        "        return \"Obrigado por conversar! Até logo!\"\n",
        "\n",
        "    # Verificar no dataset\n",
        "    faq_answer = find_answer_in_faq(user_input)\n",
        "    if faq_answer:\n",
        "        return faq_answer\n",
        "    else:\n",
        "        try:\n",
        "            response = openai.ChatCompletion.create(\n",
        "                model=\"gpt-3.5-turbo\",\n",
        "                messages=[\n",
        "                    {\"role\": \"system\", \"content\": f\"Você é um assistente especializado em cursos técnicos. Aqui estão informações importantes:\\n{faq_context}\"},\n",
        "                    {\"role\": \"user\", \"content\": user_input}\n",
        "                ]\n",
        "            )\n",
        "            chatbot_response = response['choices'][0]['message']['content']\n",
        "            return chatbot_response\n",
        "        except openai.error.OpenAIError as e:\n",
        "            return f\"Ocorreu um erro ao processar sua solicitação. Detalhes: {e}\"\n",
        "        except Exception as e:\n",
        "            return f\"Um erro inesperado ocorreu. Detalhes: {e}\"\n",
        "\n",
        "# Criar interface no Gradio\n",
        "interface = gr.Interface(\n",
        "    fn=chatbot,\n",
        "    inputs=gr.Textbox(label=\"Pergunte ao ChatBot:\"),\n",
        "    outputs=gr.Textbox(label=\"Resposta do ChatBot:\"),\n",
        "    title=\"ChatBot dos Cursos Técnicos\",\n",
        "    description=\"Pergunte sobre os cursos técnicos disponíveis. Digite 'sair' para encerrar.\"\n",
        ")\n",
        "\n",
        "# Executar a interface\n",
        "interface.launch(share=True)\n"
      ],
      "metadata": {
        "id": "GLSJX3YzllDt"
      },
      "execution_count": null,
      "outputs": []
    }
  ]
}